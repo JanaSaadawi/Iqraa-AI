{
 "cells": [
  {
   "cell_type": "markdown",
   "metadata": {},
   "source": [
    "# Automatically "
   ]
  },
  {
   "cell_type": "markdown",
   "metadata": {},
   "source": [
    "### solved the two lines problem \n"
   ]
  },
  {
   "cell_type": "code",
   "execution_count": null,
   "metadata": {},
   "outputs": [],
   "source": [
    "import pandas as pd\n",
    "import re\n",
    "import unicodedata\n",
    "import speech_recognition as sr\n",
    "\n",
    "def get_user_inputs():\n",
    "    surah_name = str(input(\"Enter the Surah name: \"))\n",
    "    start_line = int(input(\"Enter the starting line number: \"))\n",
    "    end_line = int(input(\"Enter the ending line number: \"))\n",
    "    return surah_name, start_line, end_line\n",
    "\n",
    "def recognize_speech():\n",
    "    r = sr.Recognizer()\n",
    "    recognized_text = \"\"\n",
    "    \n",
    "    while True:\n",
    "        with sr.Microphone() as src:\n",
    "            print('Say something....')\n",
    "            audio = r.listen(src)\n",
    "        \n",
    "        try:\n",
    "            t = r.recognize_google(audio, language='ar-AR')\n",
    "            print(t)\n",
    "            if t == \"صدق الله العظيم\":\n",
    "                print(\"Stopping...\")\n",
    "                break\n",
    "            else:\n",
    "                recognized_text += t + ' '\n",
    "        except sr.UnknownValueError as U:\n",
    "            print(U)\n",
    "        except sr.RequestError as R:\n",
    "            print(R)\n",
    "    \n",
    "    with open('C:/Folder/text.txt', 'a', encoding='utf-8') as f:\n",
    "        f.write(recognized_text)\n",
    "    return recognized_text.strip()\n",
    "\n",
    "def normalize_arabic(text):\n",
    "    text = re.sub(r'[^\\w\\s]', '', text)\n",
    "    text = ''.join([c for c in unicodedata.normalize('NFKD', text) if not unicodedata.combining(c)])\n",
    "    return text\n",
    "\n",
    "def load_dataset(dataset_path):\n",
    "    return pd.read_csv(dataset_path)\n",
    "\n",
    "def process_text(recognized_text, dataset, surah_name, start_line, end_line):\n",
    "    filtered_dataset = dataset[(dataset['sorah'] == surah_name) & (dataset['ayah'].between(start_line, end_line))]\n",
    "    \n",
    "    # Concatenate the filtered dataset into a single line of text\n",
    "    concatenated_dataset_text = ' '.join(filtered_dataset['text'].tolist())\n",
    "    normalized_concatenated_dataset_text = normalize_arabic(concatenated_dataset_text)\n",
    "    \n",
    "    # Normalize the recognized text\n",
    "    normalized_concatenated_recognized_text = normalize_arabic(recognized_text)\n",
    "    \n",
    "    # Compare the concatenated texts\n",
    "    if normalized_concatenated_recognized_text == normalized_concatenated_dataset_text:\n",
    "        comparison_results_final = [(start_line, normalized_concatenated_recognized_text, \"Correct\", None)]\n",
    "    elif normalized_concatenated_recognized_text in normalized_concatenated_dataset_text:\n",
    "        missing_part = normalized_concatenated_dataset_text.replace(normalized_concatenated_recognized_text, '').strip()\n",
    "        comparison_results_final = [(start_line, normalized_concatenated_recognized_text, \"Incomplete\", missing_part)]\n",
    "    else:\n",
    "        recognized_words = normalized_concatenated_recognized_text.split()\n",
    "        expected_words = normalized_concatenated_dataset_text.split()\n",
    "        incorrect_words = [(rec_word, exp_word) for rec_word, exp_word in zip(recognized_words, expected_words) if rec_word != exp_word]\n",
    "        incorrect_details = '; '.join([f\"{rec_word} -> {exp_word}\" for rec_word, exp_word in incorrect_words])\n",
    "        comparison_results_final = [(start_line, normalized_concatenated_recognized_text, \"Incorrect\", incorrect_details)]\n",
    "    \n",
    "    return pd.DataFrame(comparison_results_final, columns=['Line Number', 'Recognized Text', 'Status', 'Details'])\n"
   ]
  },
  {
   "cell_type": "code",
   "execution_count": null,
   "metadata": {},
   "outputs": [],
   "source": [
    "\n",
    "def main():\n",
    "    dataset_path = \"C:/Folder/ayah_text_diacritics_with_sorah_names.csv\"\n",
    "    surah_name, start_line, end_line = get_user_inputs()\n",
    "    \n",
    "    recognized_text = recognize_speech()\n",
    "    dataset = load_dataset(dataset_path)\n",
    "    comparison_df_final = process_text(recognized_text, dataset, surah_name, start_line, end_line)\n",
    "    \n",
    "    # Display the final comparison DataFrame\n",
    "    print(comparison_df_final)\n",
    "\n",
    "if __name__ == \"__main__\":\n",
    "    main()\n"
   ]
  }
 ],
 "metadata": {
  "kernelspec": {
   "display_name": "T5",
   "language": "python",
   "name": "python3"
  },
  "language_info": {
   "codemirror_mode": {
    "name": "ipython",
    "version": 3
   },
   "file_extension": ".py",
   "mimetype": "text/x-python",
   "name": "python",
   "nbconvert_exporter": "python",
   "pygments_lexer": "ipython3",
   "version": "3.8.19"
  }
 },
 "nbformat": 4,
 "nbformat_minor": 2
}
